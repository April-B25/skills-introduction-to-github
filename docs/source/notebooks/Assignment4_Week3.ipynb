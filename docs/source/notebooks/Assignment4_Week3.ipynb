{
  "cells": [
    {
      "cell_type": "markdown",
      "id": "f391d88b-bc40-4380-bfac-249445c7f733",
      "metadata": {
        "id": "f391d88b-bc40-4380-bfac-249445c7f733"
      },
      "source": [
        "# 📝 Assignment 4\n",
        "\n",
        "## Introductory Exercises in Python\n",
        "\n",
        "⏳ Estimated Duration: 1 Hour  \n",
        "🎯 Due: Friday, 28 March at 11:59pm"
      ]
    },
    {
      "cell_type": "markdown",
      "id": "62897a0d-e74d-4cad-bb90-3de86a930066",
      "metadata": {
        "id": "62897a0d-e74d-4cad-bb90-3de86a930066"
      },
      "source": [
        "[![Open In Colab](https://colab.research.google.com/assets/colab-badge.svg)](https://colab.research.google.com/github/BevRice/CMI_Course/blob/main/docs/source/notebooks/Assignment4_Week3.ipynb)"
      ]
    },
    {
      "cell_type": "markdown",
      "id": "6fc7e588-3639-4dfb-9799-1c6b578bb1aa",
      "metadata": {
        "id": "6fc7e588-3639-4dfb-9799-1c6b578bb1aa"
      },
      "source": [
        "### 🔹 Getting Started with Google Colab\n",
        "\n",
        "For this lesson, we will be using **Google Colab**, a free, cloud-based Jupyter Notebook environment that allows us to write and execute Python code **without needing to install anything** on our own computers.  \n",
        "\n",
        "🔹 **Why Google Colab?**  \n",
        "✔ **No Installation Required** – Runs in your web browser, no need to install Python, libraries, or Jupyter Notebook.  \n",
        "✔ **Pre-Installed Libraries** – Most of the common data analysis libraries (`NumPy`, `pandas`, `matplotlib`, `seaborn`, `statsmodels`) are already included.  \n",
        "✔ **Cloud-Based & Auto-Saving** – Your work is stored in Google Drive, so you can access it from anywhere.  \n",
        "✔ **Free GPU Access** – Useful for advanced machine learning, though not necessary for this course.  \n",
        "\n",
        "🔹 **How to Open Google Colab**  \n",
        "1️⃣ **Go to** [colab.research.google.com](https://colab.research.google.com/)  \n",
        "2️⃣ **Sign in** with your Google account  \n",
        "3️⃣ **Click** Open in Colab above\n",
        "\n",
        "---\n",
        "\n",
        "💻 **What If I Want to Run Python Locally?**  \n",
        "If you’re interested in running Python on your own computer instead of using Google Colab, you can install **Anaconda**, which includes Python and Jupyter Notebook.  \n",
        "\n",
        "🔹 **Anaconda Benefits:**  \n",
        "- Comes with everything you need for data analysis.  \n",
        "- Lets you work offline and manage different project environments.  \n",
        "- Supports additional tools like R and Julia if you’re interested in expanding your coding skills.  \n",
        "\n",
        "If you'd like guidance on **installing and setting up Anaconda**, I'm happy to walk through it with you during **office hours**! 😊  \n"
      ]
    },
    {
      "cell_type": "markdown",
      "id": "da017a30-1805-4312-bfa3-83c254fe3232",
      "metadata": {
        "id": "da017a30-1805-4312-bfa3-83c254fe3232"
      },
      "source": [
        "## Python Basics\n",
        "\n",
        "Lets practice the basics covered in Lesson 6 before we apply what we've learned to MDM data  which we'll do in Lesson 7 and Assignment 5.\n",
        "\n",
        "---"
      ]
    },
    {
      "cell_type": "markdown",
      "id": "156eae05-40b2-43eb-a4b5-81efe48c7627",
      "metadata": {
        "id": "156eae05-40b2-43eb-a4b5-81efe48c7627"
      },
      "source": [
        "### 📌 Exercise 1: Working with Variables\n",
        "1. Create three variables: category, age, and engagement_rate\n",
        "2. Assign a string, integer, and float to the variables respectively\n",
        "3. Print each of the variables\n",
        "4. Check and print the data types of each variable"
      ]
    },
    {
      "cell_type": "code",
      "execution_count": 1,
      "id": "5fa8fd36-4c3c-4c86-8966-d8586d9cde75",
      "metadata": {
        "id": "5fa8fd36-4c3c-4c86-8966-d8586d9cde75"
      },
      "outputs": [],
      "source": [
        "category = \"Technology\"\n",
        "age = 25\n",
        "engagement_rate = 0.75"
      ]
    },
    {
      "cell_type": "code",
      "execution_count": 2,
      "id": "8a878deb-d6bb-4a79-9ecd-fdd0c3c2f933",
      "metadata": {
        "colab": {
          "base_uri": "https://localhost:8080/"
        },
        "id": "8a878deb-d6bb-4a79-9ecd-fdd0c3c2f933",
        "outputId": "6d6de5af-17ed-43ca-b2d0-9f18145b1d69"
      },
      "outputs": [
        {
          "output_type": "stream",
          "name": "stdout",
          "text": [
            "Category: Technology\n",
            "Age: 25\n",
            "Engagement Rate: 0.75\n"
          ]
        }
      ],
      "source": [
        "print(\"Category:\", category)\n",
        "print(\"Age:\", age)\n",
        "print(\"Engagement Rate:\", engagement_rate)"
      ]
    },
    {
      "cell_type": "code",
      "execution_count": 3,
      "id": "af8ef3d6-2f95-4e2d-954d-b4aedd7866ac",
      "metadata": {
        "colab": {
          "base_uri": "https://localhost:8080/"
        },
        "id": "af8ef3d6-2f95-4e2d-954d-b4aedd7866ac",
        "outputId": "26c4e0ab-0409-4e20-ece6-7606544da029"
      },
      "outputs": [
        {
          "output_type": "stream",
          "name": "stdout",
          "text": [
            "Category: Technology\n",
            "Age: 25\n",
            "Engagement Rate: 0.75\n",
            "Data type of category: <class 'str'>\n",
            "Data type of age: <class 'int'>\n",
            "Data type of engagement_rate: <class 'float'>\n"
          ]
        }
      ],
      "source": [
        "# prompt: # Print the data types of your variables\n",
        "# # Enter code here\n",
        "\n",
        "category = \"Technology\"\n",
        "age = 25\n",
        "engagement_rate = 0.75\n",
        "\n",
        "print(\"Category:\", category)\n",
        "print(\"Age:\", age)\n",
        "print(\"Engagement Rate:\", engagement_rate)\n",
        "\n",
        "print(\"Data type of category:\", type(category))\n",
        "print(\"Data type of age:\", type(age))\n",
        "print(\"Data type of engagement_rate:\", type(engagement_rate))\n"
      ]
    },
    {
      "cell_type": "markdown",
      "id": "46d7287f-7b9f-424e-88b5-4ecf68697e72",
      "metadata": {
        "id": "46d7287f-7b9f-424e-88b5-4ecf68697e72"
      },
      "source": [
        "---\n",
        "\n",
        "### 📌 Exercise 2: Working with Variables\n",
        "1. Change the value stored in category to a complex data type\n",
        "2. Print the variable\n",
        "3. Check and print the new data type of category"
      ]
    },
    {
      "cell_type": "code",
      "execution_count": 4,
      "id": "8366c5a7-bfb8-44b6-8cbc-d54da9186ca9",
      "metadata": {
        "colab": {
          "base_uri": "https://localhost:8080/"
        },
        "id": "8366c5a7-bfb8-44b6-8cbc-d54da9186ca9",
        "outputId": "0425d0e9-58ad-45c2-ea8e-00824524b1e6"
      },
      "outputs": [
        {
          "output_type": "stream",
          "name": "stdout",
          "text": [
            "Category: (3+4j)\n",
            "New data type of category: <class 'complex'>\n"
          ]
        }
      ],
      "source": [
        "# Changing category to a complex data type\n",
        "category = 3 + 4j  # Complex number with real part 3 and imaginary part 4\n",
        "\n",
        "# Printing the variable\n",
        "print(\"Category:\", category)\n",
        "\n",
        "# Checking and printing the new data type\n",
        "print(\"New data type of category:\", type(category))"
      ]
    },
    {
      "cell_type": "code",
      "execution_count": 5,
      "id": "7383eed5-61a1-404d-b0d1-0118ad799d7d",
      "metadata": {
        "colab": {
          "base_uri": "https://localhost:8080/"
        },
        "id": "7383eed5-61a1-404d-b0d1-0118ad799d7d",
        "outputId": "86578ad2-7536-4963-99bf-9ba8e8cf0233"
      },
      "outputs": [
        {
          "output_type": "stream",
          "name": "stdout",
          "text": [
            "Category: (5+2j)\n",
            "New data type of category: <class 'complex'>\n"
          ]
        }
      ],
      "source": [
        "# Changing category to a complex data type\n",
        "category = 5 + 2j  # Example complex number with real part 5 and imaginary part 2\n",
        "\n",
        "# Printing the variable\n",
        "print(\"Category:\", category)\n",
        "\n",
        "# Checking and printing the new data type\n",
        "print(\"New data type of category:\", type(category))"
      ]
    },
    {
      "cell_type": "code",
      "execution_count": 6,
      "id": "b24daa86-3e55-45cd-98e8-2e81e1054ab7",
      "metadata": {
        "colab": {
          "base_uri": "https://localhost:8080/"
        },
        "id": "b24daa86-3e55-45cd-98e8-2e81e1054ab7",
        "outputId": "252d4bb1-10c3-44e3-95f4-475a0711e54b"
      },
      "outputs": [
        {
          "output_type": "stream",
          "name": "stdout",
          "text": [
            "Category: (5+2j)\n"
          ]
        }
      ],
      "source": [
        "print(\"Category:\", category)"
      ]
    },
    {
      "cell_type": "markdown",
      "id": "eb6b5cce-db5f-411c-9765-44cbdaca7be2",
      "metadata": {
        "id": "eb6b5cce-db5f-411c-9765-44cbdaca7be2"
      },
      "source": [
        "---"
      ]
    },
    {
      "cell_type": "code",
      "execution_count": null,
      "id": "8aea950a-da4d-46f9-a21c-cfb106827539",
      "metadata": {
        "id": "8aea950a-da4d-46f9-a21c-cfb106827539"
      },
      "outputs": [],
      "source": [
        "# Run this cell\n",
        "rickroll = \"\"\"Never gonna give you up\n",
        "Never gonna let you down\n",
        "Never gonna run around and desert you\n",
        "Never gonna make you cry\n",
        "Never gonna say goodbye\n",
        "Never gonna tell a lie and hurt you\"\"\"\n",
        "\n",
        "print(rickroll)"
      ]
    },
    {
      "cell_type": "markdown",
      "id": "f8d5f699-2702-4493-affd-15b667a5c42d",
      "metadata": {
        "id": "f8d5f699-2702-4493-affd-15b667a5c42d"
      },
      "source": [
        "### Question 1: Is what was printed above structured or unstructured data?"
      ]
    },
    {
      "cell_type": "markdown",
      "id": "2256c080-77ef-4cf9-8b2b-4df3aa78f7b8",
      "metadata": {
        "id": "2256c080-77ef-4cf9-8b2b-4df3aa78f7b8"
      },
      "source": [
        "unstructued data"
      ]
    },
    {
      "cell_type": "markdown",
      "id": "680ca8d8-affe-4670-8b85-de6239742395",
      "metadata": {
        "id": "680ca8d8-affe-4670-8b85-de6239742395"
      },
      "source": [
        "---\n",
        "\n",
        "### 📌 Exercise 3: Importing libraries\n",
        "1. Import the pandas and numpy libraries\n",
        "2. Check the version of each library by running the following:\n",
        "    - print(pd.__version__)\n",
        "    - print(np.__version__)"
      ]
    },
    {
      "cell_type": "code",
      "execution_count": 7,
      "id": "85012092-c902-4172-b211-65e38456f667",
      "metadata": {
        "colab": {
          "base_uri": "https://localhost:8080/"
        },
        "id": "85012092-c902-4172-b211-65e38456f667",
        "outputId": "fb0be5f8-3c86-4482-e6ed-d30bbf4cdc6a"
      },
      "outputs": [
        {
          "output_type": "stream",
          "name": "stdout",
          "text": [
            "Pandas version: 2.2.2\n",
            "NumPy version: 2.0.2\n"
          ]
        }
      ],
      "source": [
        "# Importing pandas and numpy\n",
        "import pandas as pd\n",
        "import numpy as np\n",
        "\n",
        "# Checking the version of each library\n",
        "print(\"Pandas version:\", pd.__version__)\n",
        "print(\"NumPy version:\", np.__version__)"
      ]
    },
    {
      "cell_type": "code",
      "execution_count": 8,
      "id": "fa082635-20a2-4947-9ca8-3c697f524847",
      "metadata": {
        "colab": {
          "base_uri": "https://localhost:8080/"
        },
        "id": "fa082635-20a2-4947-9ca8-3c697f524847",
        "outputId": "51f71c91-4cf4-4d93-ad54-4cfbf0ef0f74"
      },
      "outputs": [
        {
          "output_type": "stream",
          "name": "stdout",
          "text": [
            "Pandas version: 2.2.2\n"
          ]
        }
      ],
      "source": [
        "import pandas as pd\n",
        "\n",
        "# Checking the pandas version\n",
        "print(\"Pandas version:\", pd.__version__)"
      ]
    },
    {
      "cell_type": "code",
      "execution_count": 9,
      "id": "e02f2b02-69dc-466d-9e31-7c9cbe8ae4e9",
      "metadata": {
        "colab": {
          "base_uri": "https://localhost:8080/"
        },
        "id": "e02f2b02-69dc-466d-9e31-7c9cbe8ae4e9",
        "outputId": "5580f147-ca3b-4183-be84-e783b4e9b012"
      },
      "outputs": [
        {
          "output_type": "stream",
          "name": "stdout",
          "text": [
            "NumPy version: 2.0.2\n"
          ]
        }
      ],
      "source": [
        "import numpy as np\n",
        "\n",
        "# Checking the NumPy version\n",
        "print(\"NumPy version:\", np.__version__)"
      ]
    },
    {
      "cell_type": "markdown",
      "id": "b0f68748-b888-4d17-86ad-7a5bac9dddb8",
      "metadata": {
        "id": "b0f68748-b888-4d17-86ad-7a5bac9dddb8"
      },
      "source": [
        "---"
      ]
    },
    {
      "cell_type": "markdown",
      "id": "4d61e9b6-5788-43f2-8c65-7355c8ec93da",
      "metadata": {
        "id": "4d61e9b6-5788-43f2-8c65-7355c8ec93da"
      },
      "source": [
        "### 📌 Exercise 4: Basic numpy\n",
        "- 1. Create a numpy array with 5 integers and call it ages -> ages = np.array([33,45,18...])\n",
        "- 2. Create a numpy array with 5 floats and call it engagement_rate\n",
        "- 3. Create a numpy array with 5 strings and call it users\n",
        "- 4. Print all 3 arrays"
      ]
    },
    {
      "cell_type": "code",
      "execution_count": 10,
      "id": "803b3c30-182a-4c21-9484-e1a9132b236d",
      "metadata": {
        "colab": {
          "base_uri": "https://localhost:8080/"
        },
        "id": "803b3c30-182a-4c21-9484-e1a9132b236d",
        "outputId": "39f19e57-58d2-4a9c-91b5-4b1a871d2d88"
      },
      "outputs": [
        {
          "output_type": "stream",
          "name": "stdout",
          "text": [
            "Ages: [33 45 18 27 50]\n",
            "Engagement Rate: [0.75 0.82 0.6  0.9  0.68]\n",
            "Users: ['Alice' 'Bob' 'Charlie' 'David' 'Eve']\n"
          ]
        }
      ],
      "source": [
        "import numpy as np\n",
        "\n",
        "# Creating NumPy arrays\n",
        "ages = np.array([33, 45, 18, 27, 50])  # Array of integers\n",
        "engagement_rate = np.array([0.75, 0.82, 0.60, 0.90, 0.68])  # Array of floats\n",
        "users = np.array([\"Alice\", \"Bob\", \"Charlie\", \"David\", \"Eve\"])  # Array of strings\n",
        "\n",
        "# Printing all arrays\n",
        "print(\"Ages:\", ages)\n",
        "print(\"Engagement Rate:\", engagement_rate)\n",
        "print(\"Users:\", users)"
      ]
    },
    {
      "cell_type": "code",
      "execution_count": 11,
      "id": "a89ff7dc-207b-45a3-b6db-b57f098cde7f",
      "metadata": {
        "colab": {
          "base_uri": "https://localhost:8080/"
        },
        "id": "a89ff7dc-207b-45a3-b6db-b57f098cde7f",
        "outputId": "d653f353-bd50-43b6-d5e4-6ba812ba91dc"
      },
      "outputs": [
        {
          "output_type": "stream",
          "name": "stdout",
          "text": [
            "Engagement Rate: [0.75 0.82 0.6  0.9  0.68]\n"
          ]
        }
      ],
      "source": [
        "import numpy as np\n",
        "\n",
        "# Creating a NumPy array with 5 float values for engagement rates\n",
        "engagement_rate = np.array([0.75, 0.82, 0.60, 0.90, 0.68])\n",
        "\n",
        "# Printing the array\n",
        "print(\"Engagement Rate:\", engagement_rate)"
      ]
    },
    {
      "cell_type": "code",
      "execution_count": 12,
      "id": "523fdd39-b4f3-4f15-9b5c-97856e11d13b",
      "metadata": {
        "colab": {
          "base_uri": "https://localhost:8080/"
        },
        "id": "523fdd39-b4f3-4f15-9b5c-97856e11d13b",
        "outputId": "ae4d5169-4673-4ffa-98a3-38a5f59338d7"
      },
      "outputs": [
        {
          "output_type": "stream",
          "name": "stdout",
          "text": [
            "Users: ['Alice' 'Bob' 'Charlie' 'David' 'Eve']\n"
          ]
        }
      ],
      "source": [
        "import numpy as np\n",
        "\n",
        "# Creating a NumPy array with 5 string values for users\n",
        "users = np.array([\"Alice\", \"Bob\", \"Charlie\", \"David\", \"Eve\"])\n",
        "\n",
        "# Printing the array\n",
        "print(\"Users:\", users)"
      ]
    },
    {
      "cell_type": "code",
      "execution_count": 13,
      "id": "915bc262-2104-495c-bcdb-7702ac476cd6",
      "metadata": {
        "colab": {
          "base_uri": "https://localhost:8080/"
        },
        "id": "915bc262-2104-495c-bcdb-7702ac476cd6",
        "outputId": "7457a857-2b67-43d6-bcac-08f0b0828f42"
      },
      "outputs": [
        {
          "output_type": "stream",
          "name": "stdout",
          "text": [
            "Ages: [33 45 18 27 50]\n",
            "Engagement Rate: [0.75 0.82 0.6  0.9  0.68]\n",
            "Users: ['Alice' 'Bob' 'Charlie' 'David' 'Eve']\n"
          ]
        }
      ],
      "source": [
        "import numpy as np\n",
        "\n",
        "# Creating NumPy arrays\n",
        "ages = np.array([33, 45, 18, 27, 50])  # Array of integers\n",
        "engagement_rate = np.array([0.75, 0.82, 0.60, 0.90, 0.68])  # Array of floats\n",
        "users = np.array([\"Alice\", \"Bob\", \"Charlie\", \"David\", \"Eve\"])  # Array of strings\n",
        "\n",
        "# Printing all arrays\n",
        "print(\"Ages:\", ages)\n",
        "print(\"Engagement Rate:\", engagement_rate)\n",
        "print(\"Users:\", users)"
      ]
    },
    {
      "cell_type": "markdown",
      "id": "08aa72ca-31a6-447a-b752-a9a3c378940f",
      "metadata": {
        "id": "08aa72ca-31a6-447a-b752-a9a3c378940f"
      },
      "source": [
        "- 5. Get the third value of your users array -> users[2]\n",
        "- 6. Calculate sum of your ages array -> np.sum(ages)\n",
        "- 7. Calculate mean of your engagement_rate array -> np.mean(engagement_rate)"
      ]
    },
    {
      "cell_type": "code",
      "execution_count": 14,
      "id": "27e7fa62-d1b5-4291-a177-bf024166df29",
      "metadata": {
        "colab": {
          "base_uri": "https://localhost:8080/"
        },
        "id": "27e7fa62-d1b5-4291-a177-bf024166df29",
        "outputId": "a4eafa51-6cd9-41f6-e427-4e142981b28c"
      },
      "outputs": [
        {
          "output_type": "stream",
          "name": "stdout",
          "text": [
            "Third user: Charlie\n"
          ]
        }
      ],
      "source": [
        "# Getting the 3rd value (index 2) of the users array\n",
        "third_user = users[2]\n",
        "\n",
        "# Printing the result\n",
        "print(\"Third user:\", third_user)"
      ]
    },
    {
      "cell_type": "code",
      "execution_count": 15,
      "id": "01d23b3d-1487-45d1-9aea-a391afdf7522",
      "metadata": {
        "colab": {
          "base_uri": "https://localhost:8080/"
        },
        "id": "01d23b3d-1487-45d1-9aea-a391afdf7522",
        "outputId": "614220b4-d193-4675-b474-c4c36256160e"
      },
      "outputs": [
        {
          "output_type": "stream",
          "name": "stdout",
          "text": [
            "Sum of ages: 173\n"
          ]
        }
      ],
      "source": [
        "import numpy as np\n",
        "\n",
        "# Creating the ages array\n",
        "ages = np.array([33, 45, 18, 27, 50])\n",
        "\n",
        "# Calculating the sum\n",
        "total_age = np.sum(ages)\n",
        "\n",
        "# Printing the result\n",
        "print(\"Sum of ages:\", total_age)"
      ]
    },
    {
      "cell_type": "code",
      "execution_count": 16,
      "id": "76137c65-ebf1-4f11-8d26-c4a4bc9c8a35",
      "metadata": {
        "colab": {
          "base_uri": "https://localhost:8080/"
        },
        "id": "76137c65-ebf1-4f11-8d26-c4a4bc9c8a35",
        "outputId": "8255fd63-f750-435f-f89c-e46bca3604af"
      },
      "outputs": [
        {
          "output_type": "stream",
          "name": "stdout",
          "text": [
            "Mean of engagement_rate: 0.75\n"
          ]
        }
      ],
      "source": [
        "import numpy as np\n",
        "\n",
        "# Creating the engagement_rate array\n",
        "engagement_rate = np.array([0.75, 0.82, 0.60, 0.90, 0.68])\n",
        "\n",
        "# Calculating the mean\n",
        "mean_engagement = np.mean(engagement_rate)\n",
        "\n",
        "# Printing the result\n",
        "print(\"Mean of engagement_rate:\", mean_engagement)"
      ]
    },
    {
      "cell_type": "markdown",
      "id": "88783f9c-2136-4eaa-a88d-5a1c12950df4",
      "metadata": {
        "id": "88783f9c-2136-4eaa-a88d-5a1c12950df4"
      },
      "source": [
        "- 8. Change the first value of your users array to your first name -> users[0] = your name here\n",
        "- 9. Change the last value of ages to 50"
      ]
    },
    {
      "cell_type": "code",
      "execution_count": 17,
      "id": "af663e87-2625-474b-84d9-f6951bb5d8da",
      "metadata": {
        "colab": {
          "base_uri": "https://localhost:8080/"
        },
        "id": "af663e87-2625-474b-84d9-f6951bb5d8da",
        "outputId": "02f5fd9d-7d29-4987-83c8-241f1bb1d5d3"
      },
      "outputs": [
        {
          "output_type": "stream",
          "name": "stdout",
          "text": [
            "Updated users array: ['Jessica' 'Bob' 'Charlie' 'David' 'Eve']\n"
          ]
        }
      ],
      "source": [
        "import numpy as np\n",
        "\n",
        "# Creating the users array\n",
        "users = np.array([\"Alice\", \"Bob\", \"Charlie\", \"David\", \"Eve\"])\n",
        "\n",
        "# Changing the first value to your name\n",
        "users[0] = \"Jessica\"  # Replace \"Jessica\" with your name\n",
        "\n",
        "# Printing the updated array\n",
        "print(\"Updated users array:\", users)"
      ]
    },
    {
      "cell_type": "code",
      "execution_count": 18,
      "id": "07851abf-73b7-4c09-96bf-55bdf2a33e89",
      "metadata": {
        "colab": {
          "base_uri": "https://localhost:8080/"
        },
        "id": "07851abf-73b7-4c09-96bf-55bdf2a33e89",
        "outputId": "89378a61-f4ac-4225-835a-9299f9b52e81"
      },
      "outputs": [
        {
          "output_type": "stream",
          "name": "stdout",
          "text": [
            "Updated ages array: [33 45 18 27 50]\n"
          ]
        }
      ],
      "source": [
        "import numpy as np\n",
        "\n",
        "# Creating the ages array\n",
        "ages = np.array([33, 45, 18, 27, 40])  # Example initial values\n",
        "\n",
        "# Changing the last value to 50\n",
        "ages[-1] = 50  # -1 refers to the last index\n",
        "\n",
        "# Printing the updated array\n",
        "print(\"Updated ages array:\", ages)"
      ]
    },
    {
      "cell_type": "markdown",
      "id": "aef59e80-d031-4f3d-a5fc-5ba4068e4a3f",
      "metadata": {
        "id": "aef59e80-d031-4f3d-a5fc-5ba4068e4a3f"
      },
      "source": [
        "---\n",
        "### 📌 Exercise 5: Basic pandas"
      ]
    },
    {
      "cell_type": "code",
      "execution_count": null,
      "id": "74a94db2-5d79-4754-a0bf-3547c8b8b9a6",
      "metadata": {
        "id": "74a94db2-5d79-4754-a0bf-3547c8b8b9a6",
        "outputId": "51ee7afe-f936-422b-ed4b-b262696c2f2b"
      },
      "outputs": [
        {
          "data": {
            "text/plain": [
              "'\\ndf = pd.DataFrame({\\n    \"Name\": users,\\n    \"Age\": ages,\\n    \"Engagement\": engagement_rates\\n})\\n\\nprint(df)\\n\\n'"
            ]
          },
          "execution_count": 2,
          "metadata": {},
          "output_type": "execute_result"
        }
      ],
      "source": [
        "# Create a DataFrame of your numpy arrays by running this code; remove all triple quotes first\n",
        "\n",
        "'''\n",
        "df = pd.DataFrame({\n",
        "    \"Name\": users,\n",
        "    \"Age\": ages,\n",
        "    \"Engagement\": engagement_rates\n",
        "})\n",
        "\n",
        "print(df)\n",
        "\n",
        "'''"
      ]
    },
    {
      "cell_type": "markdown",
      "id": "a1e3a423-4f27-401c-ada7-a62fe0b91429",
      "metadata": {
        "id": "a1e3a423-4f27-401c-ada7-a62fe0b91429"
      },
      "source": [
        "### Question 2: Is what was printed above structured or unstructured data?"
      ]
    },
    {
      "cell_type": "markdown",
      "id": "7c6d0781-d4fd-4cd7-8445-2eeffdc00fc4",
      "metadata": {
        "id": "7c6d0781-d4fd-4cd7-8445-2eeffdc00fc4"
      },
      "source": [
        "structured data"
      ]
    },
    {
      "cell_type": "markdown",
      "id": "c1d272b9-2f2a-44a4-bfaa-cfb280be99e5",
      "metadata": {
        "id": "c1d272b9-2f2a-44a4-bfaa-cfb280be99e5"
      },
      "source": [
        "1️⃣ Compute Summary Statistics using pandas\n",
        "- 1. Use pandas to calculate the mean of df['Age'] by running -> df['Age'].mean()  \n",
        "- 2. Calculate the mean of engagement_rates in the dataset  \n",
        "- 3. Calculate the median of engagement_rates in the dataset  \n",
        "- 4. Calculate the mode of the engagement_rates in the dataset (this returns a series)  \n",
        "- 5. Extract the first mode by running -> df['Engagement'].mode()[0]"
      ]
    },
    {
      "cell_type": "code",
      "execution_count": 19,
      "id": "7417f9cb-8940-401c-99d2-38b25a7126cc",
      "metadata": {
        "id": "7417f9cb-8940-401c-99d2-38b25a7126cc"
      },
      "outputs": [],
      "source": [
        "# Creating a DataFrame\n",
        "df = pd.DataFrame({\n",
        "    \"Name\": users,\n",
        "    \"Age\": ages,\n",
        "    \"Engagement\": engagement_rate\n",
        "})"
      ]
    },
    {
      "cell_type": "code",
      "execution_count": 20,
      "id": "99f960b8-7a1f-497b-acb9-0794f32b3131",
      "metadata": {
        "colab": {
          "base_uri": "https://localhost:8080/"
        },
        "id": "99f960b8-7a1f-497b-acb9-0794f32b3131",
        "outputId": "33f8959e-9d80-4e5f-91df-5f8024ed0010"
      },
      "outputs": [
        {
          "output_type": "stream",
          "name": "stdout",
          "text": [
            "First Mode Engagement Rate: 0.6\n"
          ]
        }
      ],
      "source": [
        "first_mode = df['Engagement'].mode()[0]\n",
        "print(\"First Mode Engagement Rate:\", first_mode)"
      ]
    },
    {
      "cell_type": "code",
      "execution_count": 21,
      "id": "209036c2-0ed9-428d-b84b-2f62dc05e0a6",
      "metadata": {
        "colab": {
          "base_uri": "https://localhost:8080/"
        },
        "id": "209036c2-0ed9-428d-b84b-2f62dc05e0a6",
        "outputId": "f4492224-66f5-454e-8265-1d7a3e33ffb7"
      },
      "outputs": [
        {
          "output_type": "stream",
          "name": "stdout",
          "text": [
            "First Mode of Followers: 1000\n"
          ]
        }
      ],
      "source": [
        "# Creating a sample Followers array\n",
        "followers = np.array([1000, 1500, 1000, 2000, 2500])  # Example data with a repeated value\n",
        "\n",
        "# Adding the Followers column to the DataFrame\n",
        "df[\"Followers\"] = followers\n",
        "\n",
        "# Getting the first mode of Followers\n",
        "first_mode_followers = df['Followers'].mode()[0]\n",
        "\n",
        "# Printing the result\n",
        "print(\"First Mode of Followers:\", first_mode_followers)"
      ]
    },
    {
      "cell_type": "code",
      "execution_count": 26,
      "id": "9f264001-4d7b-40b5-a5ca-cd8f3c400d1e",
      "metadata": {
        "colab": {
          "base_uri": "https://localhost:8080/"
        },
        "id": "9f264001-4d7b-40b5-a5ca-cd8f3c400d1e",
        "outputId": "9e2c7b2f-aa81-4fe5-dc43-ab60a95b382d"
      },
      "outputs": [
        {
          "output_type": "stream",
          "name": "stdout",
          "text": [
            "First Mode of Followers: 1000\n"
          ]
        }
      ],
      "source": [
        "# Creating a sample Followers array\n",
        "followers = np.array([1000, 1500, 1000, 2000, 2500])  # Example data with a repeated value\n",
        "\n",
        "# Adding the Followers column to the DataFrame\n",
        "df[\"Followers\"] = followers\n",
        "\n",
        "# Getting the first mode of Followers\n",
        "first_mode_followers = df['Followers'].mode()[0]\n",
        "\n",
        "# Printing the result\n",
        "print(\"First Mode of Followers:\", first_mode_followers)"
      ]
    },
    {
      "cell_type": "code",
      "execution_count": 27,
      "id": "b32408a9-f12d-4b56-8d29-949242d9f953",
      "metadata": {
        "colab": {
          "base_uri": "https://localhost:8080/"
        },
        "id": "b32408a9-f12d-4b56-8d29-949242d9f953",
        "outputId": "ec98be66-3440-409d-b0c2-1960034c81cc"
      },
      "outputs": [
        {
          "output_type": "stream",
          "name": "stdout",
          "text": [
            "First Mode of Followers: 1000\n"
          ]
        }
      ],
      "source": [
        "# Getting the first mode of Followers\n",
        "first_mode_followers = df['Followers'].mode()[0]\n",
        "\n",
        "# Printing the result\n",
        "print(\"First Mode of Followers:\", first_mode_followers)"
      ]
    },
    {
      "cell_type": "markdown",
      "id": "e60d406d-682e-4200-93a7-01e89c738c6b",
      "metadata": {
        "id": "e60d406d-682e-4200-93a7-01e89c738c6b"
      },
      "source": [
        "### 📌 Exercise 6: Lists and Loops\n",
        "- 1. Create a list of 10 media types\n",
        "- 2. Print your list\n",
        "- 3. Print each media individually using a loop\n",
        "          for media in your_list_name:\n",
        "             print(media)"
      ]
    },
    {
      "cell_type": "code",
      "execution_count": 22,
      "id": "eca3d0f2-0d59-4b64-883f-3e3ee4354182",
      "metadata": {
        "colab": {
          "base_uri": "https://localhost:8080/"
        },
        "id": "eca3d0f2-0d59-4b64-883f-3e3ee4354182",
        "outputId": "33ff2522-9738-4b90-b8f4-c0381cc19dc9"
      },
      "outputs": [
        {
          "output_type": "stream",
          "name": "stdout",
          "text": [
            "Media Types List: ['Newspaper', 'Magazine', 'Radio', 'Television', 'Podcast', 'Social Media', 'Blog', 'Website', 'Video Streaming', 'E-Books']\n"
          ]
        }
      ],
      "source": [
        "# Creating a list of media types\n",
        "media_types = [\"Newspaper\", \"Magazine\", \"Radio\", \"Television\", \"Podcast\",\n",
        "               \"Social Media\", \"Blog\", \"Website\", \"Video Streaming\", \"E-Books\"]\n",
        "\n",
        "# Printing the list\n",
        "print(\"Media Types List:\", media_types)\n"
      ]
    },
    {
      "cell_type": "code",
      "execution_count": 23,
      "id": "fe0fce86-fe9b-4018-a239-0489ed1cdd9b",
      "metadata": {
        "colab": {
          "base_uri": "https://localhost:8080/"
        },
        "id": "fe0fce86-fe9b-4018-a239-0489ed1cdd9b",
        "outputId": "72806d29-6cfe-4f74-ae04-3f501a35e4b9"
      },
      "outputs": [
        {
          "output_type": "stream",
          "name": "stdout",
          "text": [
            "Media Types List: ['Newspaper', 'Magazine', 'Radio', 'Television', 'Podcast', 'Social Media', 'Blog', 'Website', 'Video Streaming', 'E-Books']\n"
          ]
        }
      ],
      "source": [
        "# Printing the list of media types\n",
        "print(\"Media Types List:\", media_types)"
      ]
    },
    {
      "cell_type": "code",
      "execution_count": 24,
      "id": "8ed70215-b6d1-4209-8387-dcdad919f621",
      "metadata": {
        "colab": {
          "base_uri": "https://localhost:8080/"
        },
        "id": "8ed70215-b6d1-4209-8387-dcdad919f621",
        "outputId": "7ff8579e-88b3-4548-93d4-9eada69cb031"
      },
      "outputs": [
        {
          "output_type": "stream",
          "name": "stdout",
          "text": [
            "Individual Media Types:\n",
            "Newspaper\n",
            "Magazine\n",
            "Radio\n",
            "Television\n",
            "Podcast\n",
            "Social Media\n",
            "Blog\n",
            "Website\n",
            "Video Streaming\n",
            "E-Books\n"
          ]
        }
      ],
      "source": [
        "# Printing each media type individually using a loop\n",
        "print(\"Individual Media Types:\")\n",
        "for media in media_types:\n",
        "    print(media)"
      ]
    },
    {
      "cell_type": "code",
      "execution_count": 25,
      "id": "22e65604-7301-444b-9049-c1e162950cc9",
      "metadata": {
        "colab": {
          "base_uri": "https://localhost:8080/"
        },
        "id": "22e65604-7301-444b-9049-c1e162950cc9",
        "outputId": "191ee2e1-40bb-4181-8829-616f97e5b781"
      },
      "outputs": [
        {
          "output_type": "stream",
          "name": "stdout",
          "text": [
            "User Names:\n",
            "Jessica\n",
            "Bob\n",
            "Charlie\n",
            "David\n",
            "Eve\n"
          ]
        }
      ],
      "source": [
        "# Print each of the user names in your dataframe\n",
        "# by replacing your_list_name with the pandas\n",
        "# column -> df['Name']\n",
        "# replace \"media\" with term of your choice\n",
        "\n",
        "# Printing each user name individually from the DataFrame\n",
        "print(\"User Names:\")\n",
        "for name in df['Name']:\n",
        "    print(name)"
      ]
    },
    {
      "cell_type": "markdown",
      "id": "2ac20775-eb2d-40e0-a683-a9b1fac6851c",
      "metadata": {
        "id": "2ac20775-eb2d-40e0-a683-a9b1fac6851c"
      },
      "source": [
        "Once complete, please submit by saving your ipynb file to the [Assignment 4 Student Submissions Folder](https://github.com/BevRice/CMI_Course/tree/main/Student_Submissions/Assignment_4)\n",
        "\n",
        "From Google Colab\n",
        "- 1. Click File\n",
        "- 2. Click Download\n",
        "- 3. Select Download .ipynb\n",
        "- 4. Upload to the folder by 11:59pm, Fri 28 Mar"
      ]
    },
    {
      "cell_type": "markdown",
      "id": "1144af66-da15-4e40-83a5-22c461006ba6",
      "metadata": {
        "id": "1144af66-da15-4e40-83a5-22c461006ba6"
      },
      "source": [
        "Grading Criteria (10 Points Total)\n",
        "\n",
        "- ✅ Code Completeness (5 pts) → Attempts all coding exercises\n",
        "- ✅ Code Accuracy (3 pts) -> No errors in executions\n",
        "- ✅ Interpretation of Results (2 pts) → Thoughtful answers to questions 1-2"
      ]
    },
    {
      "cell_type": "markdown",
      "id": "5c3c6afe-dc44-4d80-b80d-6329ce0bdc89",
      "metadata": {
        "id": "5c3c6afe-dc44-4d80-b80d-6329ce0bdc89"
      },
      "source": [
        "[Provide Anonymous Feedback on this Assignment Here](https://forms.gle/4ZRmNr5rmGCAR1Re6)"
      ]
    }
  ],
  "metadata": {
    "kernelspec": {
      "display_name": "Python 3 (ipykernel)",
      "language": "python",
      "name": "python3"
    },
    "language_info": {
      "codemirror_mode": {
        "name": "ipython",
        "version": 3
      },
      "file_extension": ".py",
      "mimetype": "text/x-python",
      "name": "python",
      "nbconvert_exporter": "python",
      "pygments_lexer": "ipython3",
      "version": "3.13.2"
    },
    "colab": {
      "provenance": []
    }
  },
  "nbformat": 4,
  "nbformat_minor": 5
}